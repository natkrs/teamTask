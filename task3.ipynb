{
  "nbformat": 4,
  "nbformat_minor": 0,
  "metadata": {
    "colab": {
      "provenance": [],
      "include_colab_link": true
    },
    "kernelspec": {
      "name": "python3",
      "display_name": "Python 3"
    },
    "language_info": {
      "name": "python"
    }
  },
  "cells": [
    {
      "cell_type": "markdown",
      "metadata": {
        "id": "view-in-github",
        "colab_type": "text"
      },
      "source": [
        "<a href=\"https://colab.research.google.com/github/natkrs/teamTask/blob/wiktor_branch/task3.ipynb\" target=\"_parent\"><img src=\"https://colab.research.google.com/assets/colab-badge.svg\" alt=\"Open In Colab\"/></a>"
      ]
    },
    {
      "cell_type": "code",
      "execution_count": null,
      "metadata": {
        "id": "S6gvPPmJP6Y8"
      },
      "outputs": [],
      "source": [
        "def function1():\n",
        "  print(\"wiktor\")\n",
        "  return\n"
      ]
    },
    {
      "cell_type": "code",
      "source": [
        "def function2():\n",
        "  return"
      ],
      "metadata": {
        "id": "XmzRtw3HQcJa"
      },
      "execution_count": null,
      "outputs": []
    },
    {
      "cell_type": "code",
      "source": [
        "result1=function1()\n",
        "result2=function2()"
      ],
      "metadata": {
        "id": "coh1oi5jQjGp"
      },
      "execution_count": null,
      "outputs": []
    }
  ]
}