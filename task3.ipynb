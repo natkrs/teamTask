{
  "nbformat": 4,
  "nbformat_minor": 0,
  "metadata": {
    "colab": {
      "provenance": [],
      "authorship_tag": "ABX9TyMnW06FjEDwUN1wOrnV/qhL",
      "include_colab_link": true
    },
    "kernelspec": {
      "name": "python3",
      "display_name": "Python 3"
    },
    "language_info": {
      "name": "python"
    }
  },
  "cells": [
    {
      "cell_type": "markdown",
      "metadata": {
        "id": "view-in-github",
        "colab_type": "text"
      },
      "source": [
        "<a href=\"https://colab.research.google.com/github/natkrs/teamTask/blob/natalia_branch/task3.ipynb\" target=\"_parent\"><img src=\"https://colab.research.google.com/assets/colab-badge.svg\" alt=\"Open In Colab\"/></a>"
      ]
    },
    {
      "cell_type": "code",
      "execution_count": 1,
      "metadata": {
        "id": "S6gvPPmJP6Y8"
      },
      "outputs": [],
      "source": [
        "def function1():\n",
        "  print(\"Natalia\")\n",
        "  return\n"
      ]
    },
    {
      "cell_type": "code",
      "source": [
        "def function2():\n",
        "  return"
      ],
      "metadata": {
        "id": "XmzRtw3HQcJa"
      },
      "execution_count": 2,
      "outputs": []
    },
    {
      "cell_type": "code",
      "source": [
        "result1=function1()\n",
        "result2=function2()\n"
      ],
      "metadata": {
        "id": "coh1oi5jQjGp",
        "outputId": "11ed9637-f9a8-4859-b142-c8b739cb9cd3",
        "colab": {
          "base_uri": "https://localhost:8080/"
        }
      },
      "execution_count": 3,
      "outputs": [
        {
          "output_type": "stream",
          "name": "stdout",
          "text": [
            "Natalia\n"
          ]
        }
      ]
    }
  ]
}