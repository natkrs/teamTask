{
  "nbformat": 4,
  "nbformat_minor": 0,
  "metadata": {
    "colab": {
      "provenance": [],
      "authorship_tag": "ABX9TyM8A6hNvDUz5V9WCYfFsxPn",
      "include_colab_link": true
    },
    "kernelspec": {
      "name": "python3",
      "display_name": "Python 3"
    },
    "language_info": {
      "name": "python"
    }
  },
  "cells": [
    {
      "cell_type": "markdown",
      "metadata": {
        "id": "view-in-github",
        "colab_type": "text"
      },
      "source": [
        "<a href=\"https://colab.research.google.com/github/natkrs/teamTask/blob/natalia_branch/task3.ipynb\" target=\"_parent\"><img src=\"https://colab.research.google.com/assets/colab-badge.svg\" alt=\"Open In Colab\"/></a>"
      ]
    },
    {
      "cell_type": "code",
      "execution_count": null,
      "metadata": {
        "id": "S6gvPPmJP6Y8"
      },
      "outputs": [],
      "source": [
        "def function1():\n",
        "  return\n"
      ]
    },
    {
      "cell_type": "code",
      "source": [
        "def function2():\n",
        "  return"
      ],
      "metadata": {
        "id": "XmzRtw3HQcJa"
      },
      "execution_count": null,
      "outputs": []
    },
    {
      "cell_type": "code",
      "source": [
        "result1=function1()\n",
        "result2=function2()\n"
      ],
      "metadata": {
        "id": "coh1oi5jQjGp",
        "outputId": "787e30e3-73aa-43cd-aba6-81c7e18616d0",
        "colab": {
          "base_uri": "https://localhost:8080/"
        }
      },
      "execution_count": null,
      "outputs": [
        {
          "output_type": "stream",
          "name": "stdout",
          "text": [
            "Natalia\n"
          ]
        }
      ]
    }
  ]
}