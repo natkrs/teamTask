{
  "nbformat": 4,
  "nbformat_minor": 0,
  "metadata": {
    "colab": {
      "provenance": [],
      "include_colab_link": true
    },
    "kernelspec": {
      "name": "python3",
      "display_name": "Python 3"
    },
    "language_info": {
      "name": "python"
    }
  },
  "cells": [
    {
      "cell_type": "markdown",
      "metadata": {
        "id": "view-in-github",
        "colab_type": "text"
      },
      "source": [
        "<a href=\"https://colab.research.google.com/github/natkrs/teamTask/blob/natalia_branch/newnotebook.ipynb\" target=\"_parent\"><img src=\"https://colab.research.google.com/assets/colab-badge.svg\" alt=\"Open In Colab\"/></a>"
      ]
    },
    {
      "cell_type": "code",
      "execution_count": null,
      "metadata": {
        "id": "uRRSl0ZKQGEh"
      },
      "outputs": [],
      "source": [
        "def f1():\n",
        "  print(\"Natalia\")\n",
        "  return"
      ]
    },
    {
      "cell_type": "code",
      "source": [
        "def f2():\n",
        "  return"
      ],
      "metadata": {
        "id": "tkbZhakbQxeZ"
      },
      "execution_count": null,
      "outputs": []
    },
    {
      "cell_type": "code",
      "source": [
        "result1=f1()\n",
        "result2=f2()\n"
      ],
      "metadata": {
        "id": "wfAFEofeQ0x5",
        "outputId": "8fbae966-3550-441a-894a-8998cb10eb86",
        "colab": {
          "base_uri": "https://localhost:8080/"
        }
      },
      "execution_count": null,
      "outputs": [
        {
          "output_type": "stream",
          "name": "stdout",
          "text": [
            "Natalia\n",
            "Wiktor\n"
          ]
        }
      ]
    }
  ]
}